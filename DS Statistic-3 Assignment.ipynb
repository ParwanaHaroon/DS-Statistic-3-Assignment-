{
 "cells": [
  {
   "cell_type": "code",
   "execution_count": 1,
   "metadata": {},
   "outputs": [],
   "source": [
    "# DS Statistic-3 Assignment"
   ]
  },
  {
   "cell_type": "code",
   "execution_count": 2,
   "metadata": {},
   "outputs": [],
   "source": [
    "#Q1: Blood Gulcose levels for obese patients have a mean of 100 with a\n",
    "# sd of 15. A sample of 36 patients who have tried the raw cornstarch\n",
    "# diet have a mean glucsoe level of 108. Test the hypothesis that the\n",
    "# raw conrnstarch had an effect or not. \n"
   ]
  },
  {
   "cell_type": "code",
   "execution_count": 4,
   "metadata": {},
   "outputs": [],
   "source": [
    "#q2: In one state, 52% of the voters are Rep, and 48% are demo. In a \n",
    "# second stat, 47% of the voters are Rep, nd 53% are Demo. Suppose a \n",
    "# simple random sampel of 100 voters are surveyed from each state. \n",
    "\n",
    "# What is the prob that the survey will show a greater percentage of Rep\n",
    "# voters in the seocnd state than in the first state?"
   ]
  },
  {
   "cell_type": "code",
   "execution_count": 5,
   "metadata": {},
   "outputs": [],
   "source": [
    "#Q3: you take the Sat and score 1100. The mean score for Sat is 1026\n",
    "# and the sd is 209. How will did you score on the test compared to the\n",
    "# average test taker?\n"
   ]
  },
  {
   "cell_type": "code",
   "execution_count": 1,
   "metadata": {},
   "outputs": [],
   "source": [
    "import numpy as np\n",
    "import scipy.stats\n",
    "import statsmodels.stats.api as sms"
   ]
  },
  {
   "cell_type": "code",
   "execution_count": null,
   "metadata": {},
   "outputs": [],
   "source": [
    "Solution:- Follow the above discussed steps to test this hypothesis:\n",
    "Step-1: State the hypotheses. The population mean is 100.\n",
    "H0: μ= 100\n",
    "H1: μ &gt; 100\n",
    "\n",
    "\n",
    "Step-2: Set up the significance level. It is not given in the problem so let’s assume it\n",
    "as 5% (0.05).\n",
    "\n",
    "\n",
    "Step-3: Compute the random chance probability using z score and z-table.\n",
    "\n",
    "For this set of data: z= (108-100) / (15/√36)=3.20\n",
    "You can look at the probability by looking at z- table and p-value associated with 3.20 is\n",
    "0.9993 i.e. probability of having value less than 108 is 0.9993 and more than or equals\n",
    "to 108 is (1-0.9993)=0.0007."
   ]
  },
  {
   "cell_type": "code",
   "execution_count": null,
   "metadata": {},
   "outputs": [],
   "source": [
    "Solution 2:\n",
    " For this analysis, let P1 = the proportion of Republican voters in the first state, P2 = the proportion of Republican voters in the second state, p1 = the proportion of Republican voters in the sample from the first state, and p2 = the proportion of Republican voters in the sample from the second state. The number of voters sampled from the first state (n1) = 100, and the number of voters sampled from the second state (n2) = 100.\n",
    "\n",
    "The solution involves four steps.\n",
    "\n",
    "\tMake sure the sample size is big enough to model differences with a normal population. Because n1P1 = 100 * 0.52 = 52, n1(1 - P1) = 100 * 0.48 = 48, n2P2 = 100 * 0.47 = 47, and n2(1 - P2) = 100 * 0.53 = 53 are each greater than 10, the sample size is large enough.\n",
    "\n",
    "\tFind the mean of the difference in sample proportions: E(p1 - p2) = P1 - P2 = 0.52 - 0.47 = 0.05.\n",
    "\n",
    "\tfind the standard deviation of the difference.\n",
    "\t\tσd = sqrt{ [ P1(1 - P1) / n1 ] + [ P2(1 - P2) / n2 ] } \n",
    "\t\tσd = sqrt{ [ (0.52)(0.48) / 100 ] + [ (0.47)(0.53) / 100 ] } \n",
    "\t\tσd = sqrt (0.002496 + 0.002491) = sqrt(0.004987) = 0.0706\n",
    "\n",
    "\tFind the probability. This problem requires us to find the probability that p1 is less than p2. This is equivalent to finding the probability that p1 - p2 is less than zero. To find this probability, we need to transform the random variable (p1 - p2) into a z-score. That transformation appears below.\n",
    "\t\tz p1 - p2 = (x - μ p1 - p2 ) / σd = = (0 - 0.05)/0.0706 = -0.7082\n",
    "\n",
    "\n",
    "Using Stat Trek's Normal Distribution Calculator, we find that the probability of a z-score being -0.7082 or less is 0.24.\n",
    "Therefore, the probability that the survey will show a greater percentage of Republican voters in the second state than in the first state is 0.24.\n",
    "\n",
    "\n"
   ]
  },
  {
   "cell_type": "code",
   "execution_count": null,
   "metadata": {},
   "outputs": [],
   "source": [
    "Problem 3: \n",
    "\n",
    "You take the SAT and score 1100. The mean score for the SAT is 1026 and the standard deviation is 209. How well did you score on the test compared to the average test taker?\n",
    "\n",
    "Solution: \n",
    "\n",
    "Step 1: Write your X-value into the z-score equation. For this question the X-value is your SAT score, 1100.\n",
    "Z = (1100 - μ)/σ\n",
    "\n",
    "Step 2: Put the mean, μ, into the z-score equation.\n",
    "Z = (1100 - 1026)/209\n",
    "\n",
    "Step 3: Write the standard deviation, σ into the z-score equation.\n",
    "Z = (1100 - 1026)/209\n",
    "\n",
    "Step 4: Calculate the answer using a calculator:\n",
    "(1100 – 1026) / 209 = .354. This means that your score was .354 std devs above the mean.\n",
    "\n",
    "Step 5: Look up your z-value in the z-table to see what percentage of test-takers scored below you. A z-score of .354 is .1368 + .5000* = .6368 or 63.68%."
   ]
  },
  {
   "cell_type": "code",
   "execution_count": null,
   "metadata": {},
   "outputs": [],
   "source": []
  },
  {
   "cell_type": "code",
   "execution_count": null,
   "metadata": {},
   "outputs": [],
   "source": []
  },
  {
   "cell_type": "code",
   "execution_count": null,
   "metadata": {},
   "outputs": [],
   "source": []
  }
 ],
 "metadata": {
  "kernelspec": {
   "display_name": "Python 3",
   "language": "python",
   "name": "python3"
  },
  "language_info": {
   "codemirror_mode": {
    "name": "ipython",
    "version": 3
   },
   "file_extension": ".py",
   "mimetype": "text/x-python",
   "name": "python",
   "nbconvert_exporter": "python",
   "pygments_lexer": "ipython3",
   "version": "3.6.8"
  }
 },
 "nbformat": 4,
 "nbformat_minor": 2
}
